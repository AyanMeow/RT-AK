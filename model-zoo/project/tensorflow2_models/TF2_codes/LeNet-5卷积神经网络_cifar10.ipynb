{
 "cells": [
  {
   "cell_type": "code",
   "execution_count": 1,
   "metadata": {},
   "outputs": [],
   "source": [
    "import tensorflow as tf\n",
    "from tensorflow import keras\n",
    "import matplotlib.pyplot as plt"
   ]
  },
  {
   "cell_type": "code",
   "execution_count": 2,
   "metadata": {},
   "outputs": [],
   "source": [
    "#数据集加载\n",
    "(x_train_image,y_train_label),(x_test_image,y_test_label) = tf.keras.datasets.cifar10.load_data()\n",
    "x_train_normalize = x_train_image.astype('float32')/255   #归一化\n",
    "x_test_normalize = x_test_image.astype('float32')/255\n",
    "y_train_OneHot = tf.keras.utils.to_categorical(y_train_label)   #onehot编码\n",
    "y_test_OneHot = tf.keras.utils.to_categorical(y_test_label)"
   ]
  },
  {
   "cell_type": "code",
   "execution_count": 3,
   "metadata": {},
   "outputs": [],
   "source": [
    "model = tf.keras.models.Sequential()   #模型创建\n",
    "model.add(keras.layers.Conv2D(filters=6,kernel_size=3,strides=1,input_shape=(32,32,3)))\n",
    "model.add(keras.layers.MaxPooling2D(pool_size=2,strides=2))\n",
    "model.add(keras.layers.ReLU())\n",
    "model.add(keras.layers.Conv2D(filters=16,kernel_size=3,strides=1))\n",
    "model.add(keras.layers.MaxPooling2D(pool_size=2,strides=2))\n",
    "model.add(keras.layers.ReLU())\n",
    "model.add(keras.layers.Flatten())\n",
    "model.add(keras.layers.Dense(120,activation='relu'))\n",
    "model.add(keras.layers.Dense(84,activation='relu'))\n",
    "model.add(keras.layers.Dense(10,activation='softmax'))"
   ]
  },
  {
   "cell_type": "code",
   "execution_count": 4,
   "metadata": {},
   "outputs": [
    {
     "name": "stdout",
     "output_type": "stream",
     "text": [
      "Model: \"sequential\"\n",
      "_________________________________________________________________\n",
      "Layer (type)                 Output Shape              Param #   \n",
      "=================================================================\n",
      "conv2d (Conv2D)              (None, 30, 30, 6)         168       \n",
      "_________________________________________________________________\n",
      "max_pooling2d (MaxPooling2D) (None, 15, 15, 6)         0         \n",
      "_________________________________________________________________\n",
      "re_lu (ReLU)                 (None, 15, 15, 6)         0         \n",
      "_________________________________________________________________\n",
      "conv2d_1 (Conv2D)            (None, 13, 13, 16)        880       \n",
      "_________________________________________________________________\n",
      "max_pooling2d_1 (MaxPooling2 (None, 6, 6, 16)          0         \n",
      "_________________________________________________________________\n",
      "re_lu_1 (ReLU)               (None, 6, 6, 16)          0         \n",
      "_________________________________________________________________\n",
      "flatten (Flatten)            (None, 576)               0         \n",
      "_________________________________________________________________\n",
      "dense (Dense)                (None, 120)               69240     \n",
      "_________________________________________________________________\n",
      "dense_1 (Dense)              (None, 84)                10164     \n",
      "_________________________________________________________________\n",
      "dense_2 (Dense)              (None, 10)                850       \n",
      "=================================================================\n",
      "Total params: 81,302\n",
      "Trainable params: 81,302\n",
      "Non-trainable params: 0\n",
      "_________________________________________________________________\n"
     ]
    }
   ],
   "source": [
    "model.summary()"
   ]
  },
  {
   "cell_type": "code",
   "execution_count": 6,
   "metadata": {},
   "outputs": [
    {
     "name": "stdout",
     "output_type": "stream",
     "text": [
      "Epoch 1/30\n",
      "134/134 [==============================] - 1s 8ms/step - loss: 1.8611 - accuracy: 0.3267 - val_loss: 1.6541 - val_accuracy: 0.4028\n",
      "Epoch 2/30\n",
      "134/134 [==============================] - 1s 5ms/step - loss: 1.5543 - accuracy: 0.4432 - val_loss: 1.5394 - val_accuracy: 0.4438\n",
      "Epoch 3/30\n",
      "134/134 [==============================] - 1s 5ms/step - loss: 1.4499 - accuracy: 0.4817 - val_loss: 1.4242 - val_accuracy: 0.4927\n",
      "Epoch 4/30\n",
      "134/134 [==============================] - 1s 5ms/step - loss: 1.3789 - accuracy: 0.5103 - val_loss: 1.3725 - val_accuracy: 0.5131\n",
      "Epoch 5/30\n",
      "134/134 [==============================] - 1s 5ms/step - loss: 1.3254 - accuracy: 0.5305 - val_loss: 1.3466 - val_accuracy: 0.5246\n",
      "Epoch 6/30\n",
      "134/134 [==============================] - 1s 5ms/step - loss: 1.2817 - accuracy: 0.5477 - val_loss: 1.3109 - val_accuracy: 0.5401\n",
      "Epoch 7/30\n",
      "134/134 [==============================] - 1s 5ms/step - loss: 1.2407 - accuracy: 0.5621 - val_loss: 1.2986 - val_accuracy: 0.5436\n",
      "Epoch 8/30\n",
      "134/134 [==============================] - 1s 6ms/step - loss: 1.2111 - accuracy: 0.5718 - val_loss: 1.2665 - val_accuracy: 0.5557\n",
      "Epoch 9/30\n",
      "134/134 [==============================] - 1s 5ms/step - loss: 1.1804 - accuracy: 0.5864 - val_loss: 1.2422 - val_accuracy: 0.5638\n",
      "Epoch 10/30\n",
      "134/134 [==============================] - 1s 5ms/step - loss: 1.1557 - accuracy: 0.5933 - val_loss: 1.2345 - val_accuracy: 0.5662\n",
      "Epoch 11/30\n",
      "134/134 [==============================] - 1s 6ms/step - loss: 1.1266 - accuracy: 0.6029 - val_loss: 1.2136 - val_accuracy: 0.5727\n",
      "Epoch 12/30\n",
      "134/134 [==============================] - 1s 5ms/step - loss: 1.0986 - accuracy: 0.6154 - val_loss: 1.1924 - val_accuracy: 0.5779\n",
      "Epoch 13/30\n",
      "134/134 [==============================] - 1s 5ms/step - loss: 1.0810 - accuracy: 0.6203 - val_loss: 1.1679 - val_accuracy: 0.5940\n",
      "Epoch 14/30\n",
      "134/134 [==============================] - 1s 5ms/step - loss: 1.0622 - accuracy: 0.6283 - val_loss: 1.1645 - val_accuracy: 0.5942\n",
      "Epoch 15/30\n",
      "134/134 [==============================] - 1s 5ms/step - loss: 1.0410 - accuracy: 0.6348 - val_loss: 1.1588 - val_accuracy: 0.5966\n",
      "Epoch 16/30\n",
      "134/134 [==============================] - 1s 5ms/step - loss: 1.0171 - accuracy: 0.6442 - val_loss: 1.1576 - val_accuracy: 0.5963\n",
      "Epoch 17/30\n",
      "134/134 [==============================] - 1s 5ms/step - loss: 1.0061 - accuracy: 0.6471 - val_loss: 1.1275 - val_accuracy: 0.6106\n",
      "Epoch 18/30\n",
      "134/134 [==============================] - 1s 5ms/step - loss: 0.9843 - accuracy: 0.6549 - val_loss: 1.1637 - val_accuracy: 0.5957\n",
      "Epoch 19/30\n",
      "134/134 [==============================] - 1s 5ms/step - loss: 0.9672 - accuracy: 0.6607 - val_loss: 1.1295 - val_accuracy: 0.6096\n",
      "Epoch 20/30\n",
      "134/134 [==============================] - 1s 5ms/step - loss: 0.9498 - accuracy: 0.6650 - val_loss: 1.1063 - val_accuracy: 0.6166\n",
      "Epoch 21/30\n",
      "134/134 [==============================] - 1s 5ms/step - loss: 0.9319 - accuracy: 0.6719 - val_loss: 1.1100 - val_accuracy: 0.6188\n",
      "Epoch 22/30\n",
      "134/134 [==============================] - 1s 5ms/step - loss: 0.9176 - accuracy: 0.6791 - val_loss: 1.1005 - val_accuracy: 0.6214\n",
      "Epoch 23/30\n",
      "134/134 [==============================] - 1s 5ms/step - loss: 0.9121 - accuracy: 0.6811 - val_loss: 1.1453 - val_accuracy: 0.6073\n",
      "Epoch 24/30\n",
      "134/134 [==============================] - 1s 5ms/step - loss: 0.8914 - accuracy: 0.6880 - val_loss: 1.0930 - val_accuracy: 0.6278\n",
      "Epoch 25/30\n",
      "134/134 [==============================] - 1s 5ms/step - loss: 0.8856 - accuracy: 0.6898 - val_loss: 1.0996 - val_accuracy: 0.6259\n",
      "Epoch 26/30\n",
      "134/134 [==============================] - 1s 5ms/step - loss: 0.8680 - accuracy: 0.6952 - val_loss: 1.0894 - val_accuracy: 0.6256\n",
      "Epoch 27/30\n",
      "134/134 [==============================] - 1s 5ms/step - loss: 0.8605 - accuracy: 0.6977 - val_loss: 1.1048 - val_accuracy: 0.6194\n",
      "Epoch 28/30\n",
      "134/134 [==============================] - 1s 5ms/step - loss: 0.8441 - accuracy: 0.7049 - val_loss: 1.0959 - val_accuracy: 0.6262\n",
      "Epoch 29/30\n",
      "134/134 [==============================] - 1s 5ms/step - loss: 0.8274 - accuracy: 0.7096 - val_loss: 1.0960 - val_accuracy: 0.6287\n",
      "Epoch 30/30\n",
      "134/134 [==============================] - 1s 5ms/step - loss: 0.8135 - accuracy: 0.7148 - val_loss: 1.0993 - val_accuracy: 0.6283\n"
     ]
    }
   ],
   "source": [
    "model.compile(loss='categorical_crossentropy',optimizer='adam',metrics=['accuracy'])\n",
    "model_train = model.fit(x=x_train_normalize,y=y_train_OneHot,validation_split=0.2,epochs=30,batch_size=300,verbose=1)"
   ]
  },
  {
   "cell_type": "code",
   "execution_count": 7,
   "metadata": {},
   "outputs": [
    {
     "data": {
      "image/png": "[encoded data removed]",
      "text/plain": [
       "<Figure size 432x288 with 1 Axes>"
      ]
     },
     "metadata": {
      "needs_background": "light"
     },
     "output_type": "display_data"
    }
   ],
   "source": [
    "def train_history(model_train,train,val):\n",
    "    plt.plot(model_train.history[train])\n",
    "    plt.plot(model_train.history[val])\n",
    "    plt.title('Train History')\n",
    "    plt.xlabel('epoch')\n",
    "    plt.ylabel(train)\n",
    "    plt.legend(['train','validation'],loc='upper left')\n",
    "    \n",
    "train_history(model_train,'loss','val_loss')"
   ]
  },
  {
   "cell_type": "code",
   "execution_count": 8,
   "metadata": {},
   "outputs": [
    {
     "name": "stdout",
     "output_type": "stream",
     "text": [
      "313/313 - 0s - loss: 1.1001 - accuracy: 0.6275\n"
     ]
    }
   ],
   "source": [
    "scores = model.evaluate(x_test_normalize,y_test_OneHot,verbose=2)"
   ]
  },
  {
   "cell_type": "code",
   "execution_count": 9,
   "metadata": {},
   "outputs": [],
   "source": [
    "model.save('./Mylenet.h5', save_format=\"h5\")"
   ]
  },
  {
   "cell_type": "code",
   "execution_count": 11,
   "metadata": {},
   "outputs": [
    {
     "data": {
      "text/plain": [
       "328620"
      ]
     },
     "execution_count": 11,
     "metadata": {},
     "output_type": "execute_result"
    }
   ],
   "source": [
    "from tensorflow.python.keras import backend as K\n",
    "from tensorflow.python.keras.utils.generic_utils import CustomObjectScope\n",
    "#model = tf.keras.models.load_model('MyAlex.h5')\n",
    "#print(model.summary())\n",
    "\n",
    " \n",
    "#keras_model = tf.keras_models.load_model(\"./MyAlex.h5\")\n",
    "keras_model =tf.keras.models.load_model (\"./Mylenet.h5\")\n",
    "\n",
    "converter = tf.lite.TFLiteConverter.from_keras_model(keras_model)\n",
    "tflite_model = converter.convert()\n",
    "\n",
    "open(\"./Mylenet.tflite\",\"wb\").write(tflite_model)\n",
    " \n"
   ]
  }
 ],
 "metadata": {
  "kernelspec": {
   "display_name": "Python 3.8.13 ('tf2')",
   "language": "python",
   "name": "python3"
  },
  "language_info": {
   "codemirror_mode": {
    "name": "ipython",
    "version": 3
   },
   "file_extension": ".py",
   "mimetype": "text/x-python",
   "name": "python",
   "nbconvert_exporter": "python",
   "pygments_lexer": "ipython3",
   "version": "3.8.13"
  },
  "vscode": {
   "interpreter": {
    "hash": "191b613aa2eae5cea452075f03b52477f36862f57e511f6bd3e69cb00abfb340"
   }
  }
 },
 "nbformat": 4,
 "nbformat_minor": 4
}
