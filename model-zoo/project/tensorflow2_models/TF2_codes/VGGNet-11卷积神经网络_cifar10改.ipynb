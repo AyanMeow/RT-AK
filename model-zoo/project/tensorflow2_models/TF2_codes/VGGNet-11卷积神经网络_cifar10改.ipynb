{
 "cells": [
  {
   "cell_type": "code",
   "execution_count": 1,
   "metadata": {},
   "outputs": [],
   "source": [
    "import tensorflow as tf\n",
    "from tensorflow import keras\n",
    "import matplotlib.pyplot as plt"
   ]
  },
  {
   "cell_type": "code",
   "execution_count": 2,
   "metadata": {},
   "outputs": [],
   "source": [
    "(x_train_image,y_train_label),(x_test_image,y_test_label) = tf.keras.datasets.cifar10.load_data()\n",
    "x_train_normalize = x_train_image.astype('float32')/255\n",
    "x_test_normalize = x_test_image.astype('float32')/255\n",
    "y_train_OneHot = tf.keras.utils.to_categorical(y_train_label)\n",
    "y_test_OneHot = tf.keras.utils.to_categorical(y_test_label)"
   ]
  },
  {
   "cell_type": "code",
   "execution_count": 5,
   "metadata": {},
   "outputs": [
    {
     "name": "stdout",
     "output_type": "stream",
     "text": [
      "Model: \"sequential_2\"\n",
      "_________________________________________________________________\n",
      "Layer (type)                 Output Shape              Param #   \n",
      "=================================================================\n",
      "conv2d_12 (Conv2D)           (None, 32, 32, 16)        448       \n",
      "_________________________________________________________________\n",
      "max_pooling2d_8 (MaxPooling2 (None, 16, 16, 16)        0         \n",
      "_________________________________________________________________\n",
      "conv2d_13 (Conv2D)           (None, 16, 16, 32)        4640      \n",
      "_________________________________________________________________\n",
      "max_pooling2d_9 (MaxPooling2 (None, 8, 8, 32)          0         \n",
      "_________________________________________________________________\n",
      "conv2d_14 (Conv2D)           (None, 8, 8, 32)          9248      \n",
      "_________________________________________________________________\n",
      "conv2d_15 (Conv2D)           (None, 8, 8, 32)          9248      \n",
      "_________________________________________________________________\n",
      "max_pooling2d_10 (MaxPooling (None, 4, 4, 32)          0         \n",
      "_________________________________________________________________\n",
      "conv2d_16 (Conv2D)           (None, 4, 4, 64)          18496     \n",
      "_________________________________________________________________\n",
      "conv2d_17 (Conv2D)           (None, 4, 4, 64)          36928     \n",
      "_________________________________________________________________\n",
      "max_pooling2d_11 (MaxPooling (None, 2, 2, 64)          0         \n",
      "_________________________________________________________________\n",
      "flatten_2 (Flatten)          (None, 256)               0         \n",
      "_________________________________________________________________\n",
      "dense_10 (Dense)             (None, 256)               65792     \n",
      "_________________________________________________________________\n",
      "dropout_8 (Dropout)          (None, 256)               0         \n",
      "_________________________________________________________________\n",
      "dense_11 (Dense)             (None, 256)               65792     \n",
      "_________________________________________________________________\n",
      "dropout_9 (Dropout)          (None, 256)               0         \n",
      "_________________________________________________________________\n",
      "dense_12 (Dense)             (None, 128)               32896     \n",
      "_________________________________________________________________\n",
      "dropout_10 (Dropout)         (None, 128)               0         \n",
      "_________________________________________________________________\n",
      "dense_13 (Dense)             (None, 10)                1290      \n",
      "=================================================================\n",
      "Total params: 244,778\n",
      "Trainable params: 244,778\n",
      "Non-trainable params: 0\n",
      "_________________________________________________________________\n"
     ]
    }
   ],
   "source": [
    "model = tf.keras.models.Sequential()\n",
    "model.add(keras.layers.Conv2D(filters=16,kernel_size=3,strides=1,input_shape=(32,32,3),padding='same',activation='relu'))\n",
    "model.add(keras.layers.MaxPooling2D(pool_size=2,strides=2,padding='same'))\n",
    "model.add(keras.layers.Conv2D(filters=32,kernel_size=3,strides=1,padding='same',activation='relu'))\n",
    "model.add(keras.layers.MaxPooling2D(pool_size=2,strides=2,padding='same'))\n",
    "model.add(keras.layers.Conv2D(filters=32,kernel_size=3,strides=1,padding='same',activation='relu'))\n",
    "model.add(keras.layers.Conv2D(filters=32,kernel_size=3,strides=1,padding='same',activation='relu'))\n",
    "model.add(keras.layers.MaxPooling2D(pool_size=2,strides=2,padding='same'))\n",
    "model.add(keras.layers.Conv2D(filters=64,kernel_size=3,strides=1,padding='same',activation='relu'))\n",
    "model.add(keras.layers.Conv2D(filters=64,kernel_size=3,strides=1,padding='same',activation='relu'))\n",
    "model.add(keras.layers.MaxPooling2D(pool_size=2,strides=2,padding='same'))\n",
    "'''\n",
    "model.add(keras.layers.Conv2D(filters=64,kernel_size=3,strides=1,padding='same',activation='relu'))\n",
    "model.add(keras.layers.Conv2D(filters=64,kernel_size=3,strides=1,padding='same',activation='relu'))\n",
    "model.add(keras.layers.MaxPooling2D(pool_size=2,strides=2,padding='same'))\n",
    "'''\n",
    "model.add(keras.layers.Flatten())\n",
    "model.add(keras.layers.Dense(256,activation='relu'))\n",
    "model.add(keras.layers.Dropout(0.5))\n",
    "model.add(keras.layers.Dense(256,activation='relu'))\n",
    "model.add(keras.layers.Dropout(0.5))\n",
    "model.add(keras.layers.Dense(128,activation='relu'))\n",
    "model.add(keras.layers.Dropout(0.5))\n",
    "model.add(keras.layers.Dense(10,activation='softmax'))\n",
    "model.summary()"
   ]
  },
  {
   "cell_type": "code",
   "execution_count": 7,
   "metadata": {},
   "outputs": [
    {
     "name": "stdout",
     "output_type": "stream",
     "text": [
      "Epoch 1/20\n",
      "134/134 [==============================] - 1s 11ms/step - loss: 1.0004 - accuracy: 0.6561 - val_loss: 1.0149 - val_accuracy: 0.6421\n",
      "Epoch 2/20\n",
      "134/134 [==============================] - 1s 10ms/step - loss: 0.9404 - accuracy: 0.6779 - val_loss: 1.0484 - val_accuracy: 0.6376\n",
      "Epoch 3/20\n",
      "134/134 [==============================] - 1s 10ms/step - loss: 0.9042 - accuracy: 0.6905 - val_loss: 1.0244 - val_accuracy: 0.6488\n",
      "Epoch 4/20\n",
      "134/134 [==============================] - 1s 11ms/step - loss: 0.8750 - accuracy: 0.6986 - val_loss: 0.9995 - val_accuracy: 0.6612\n",
      "Epoch 5/20\n",
      "134/134 [==============================] - 1s 10ms/step - loss: 0.8327 - accuracy: 0.7155 - val_loss: 1.0000 - val_accuracy: 0.6588\n",
      "Epoch 6/20\n",
      "134/134 [==============================] - 1s 10ms/step - loss: 0.8071 - accuracy: 0.7252 - val_loss: 0.9654 - val_accuracy: 0.6687\n",
      "Epoch 7/20\n",
      "134/134 [==============================] - 1s 10ms/step - loss: 0.7707 - accuracy: 0.7355 - val_loss: 0.9975 - val_accuracy: 0.6649\n",
      "Epoch 8/20\n",
      "134/134 [==============================] - 1s 10ms/step - loss: 0.7563 - accuracy: 0.7400 - val_loss: 1.0285 - val_accuracy: 0.6527\n",
      "Epoch 9/20\n",
      "134/134 [==============================] - 1s 10ms/step - loss: 0.7265 - accuracy: 0.7517 - val_loss: 1.0318 - val_accuracy: 0.6662\n",
      "Epoch 10/20\n",
      "134/134 [==============================] - 1s 10ms/step - loss: 0.6944 - accuracy: 0.7625 - val_loss: 1.0159 - val_accuracy: 0.6729\n",
      "Epoch 11/20\n",
      "134/134 [==============================] - 1s 10ms/step - loss: 0.6772 - accuracy: 0.7703 - val_loss: 1.0417 - val_accuracy: 0.6668\n",
      "Epoch 12/20\n",
      "134/134 [==============================] - 1s 10ms/step - loss: 0.6457 - accuracy: 0.7775 - val_loss: 1.0379 - val_accuracy: 0.6763\n",
      "Epoch 13/20\n",
      "134/134 [==============================] - 1s 10ms/step - loss: 0.6175 - accuracy: 0.7900 - val_loss: 1.0586 - val_accuracy: 0.6758\n",
      "Epoch 14/20\n",
      "134/134 [==============================] - 1s 10ms/step - loss: 0.5994 - accuracy: 0.7950 - val_loss: 1.0865 - val_accuracy: 0.6762\n",
      "Epoch 15/20\n",
      "134/134 [==============================] - 1s 10ms/step - loss: 0.5884 - accuracy: 0.7976 - val_loss: 1.0200 - val_accuracy: 0.6795\n",
      "Epoch 16/20\n",
      "134/134 [==============================] - 1s 10ms/step - loss: 0.5518 - accuracy: 0.8112 - val_loss: 1.0582 - val_accuracy: 0.6818\n",
      "Epoch 17/20\n",
      "134/134 [==============================] - 1s 10ms/step - loss: 0.5378 - accuracy: 0.8144 - val_loss: 1.2027 - val_accuracy: 0.6519\n",
      "Epoch 18/20\n",
      "134/134 [==============================] - 1s 10ms/step - loss: 0.5273 - accuracy: 0.8188 - val_loss: 1.1167 - val_accuracy: 0.6792\n",
      "Epoch 19/20\n",
      "134/134 [==============================] - 1s 10ms/step - loss: 0.4897 - accuracy: 0.8336 - val_loss: 1.1273 - val_accuracy: 0.6896\n",
      "Epoch 20/20\n",
      "134/134 [==============================] - 1s 10ms/step - loss: 0.5011 - accuracy: 0.8275 - val_loss: 1.1759 - val_accuracy: 0.6656\n"
     ]
    }
   ],
   "source": [
    "model.compile(loss='categorical_crossentropy',optimizer='adam',metrics=['accuracy'])\n",
    "model_train = model.fit(x=x_train_normalize,y=y_train_OneHot,validation_split=0.2,epochs=20,batch_size=300,verbose=1)"
   ]
  },
  {
   "cell_type": "code",
   "execution_count": 8,
   "metadata": {},
   "outputs": [],
   "source": [
    "def train_history(model_train,train,val):\n",
    "    plt.plot(model_train.history[train])\n",
    "    plt.plot(model_train.history[val])\n",
    "    plt.title('Train History')\n",
    "    plt.xlabel('epoch')\n",
    "    plt.ylabel(train)\n",
    "    plt.legend(['train','validation'],loc='upper left')"
   ]
  },
  {
   "cell_type": "code",
   "execution_count": 9,
   "metadata": {},
   "outputs": [
    {
     "data": {
      "image/png": "[encoded data removed]",
      "text/plain": [
       "<Figure size 432x288 with 1 Axes>"
      ]
     },
     "metadata": {
      "needs_background": "light"
     },
     "output_type": "display_data"
    }
   ],
   "source": [
    "train_history(model_train,'loss','val_loss')"
   ]
  },
  {
   "cell_type": "code",
   "execution_count": 10,
   "metadata": {},
   "outputs": [
    {
     "name": "stdout",
     "output_type": "stream",
     "text": [
      "313/313 - 1s - loss: 1.2362 - accuracy: 0.6527\n"
     ]
    }
   ],
   "source": [
    "scores = model.evaluate(x_test_normalize,y_test_OneHot,verbose=2)"
   ]
  },
  {
   "cell_type": "code",
   "execution_count": 11,
   "metadata": {},
   "outputs": [],
   "source": [
    "model.save('./VGGnet.h5', save_format=\"h5\")"
   ]
  }
 ],
 "metadata": {
  "kernelspec": {
   "display_name": "Python 3.8.13 ('tf2')",
   "language": "python",
   "name": "python3"
  },
  "language_info": {
   "codemirror_mode": {
    "name": "ipython",
    "version": 3
   },
   "file_extension": ".py",
   "mimetype": "text/x-python",
   "name": "python",
   "nbconvert_exporter": "python",
   "pygments_lexer": "ipython3",
   "version": "3.8.13"
  },
  "vscode": {
   "interpreter": {
    "hash": "191b613aa2eae5cea452075f03b52477f36862f57e511f6bd3e69cb00abfb340"
   }
  }
 },
 "nbformat": 4,
 "nbformat_minor": 4
}
