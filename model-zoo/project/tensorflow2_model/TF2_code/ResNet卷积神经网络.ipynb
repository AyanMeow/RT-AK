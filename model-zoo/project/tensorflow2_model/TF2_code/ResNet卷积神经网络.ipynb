{
 "cells": [
  {
   "cell_type": "code",
   "execution_count": 1,
   "metadata": {},
   "outputs": [],
   "source": [
    "import tensorflow as tf\n",
    "from tensorflow import keras\n",
    "import matplotlib.pyplot as plt"
   ]
  },
  {
   "cell_type": "code",
   "execution_count": 14,
   "metadata": {},
   "outputs": [],
   "source": [
    "(x_train_image,y_train_label),(x_test_image,y_test_label) = tf.keras.datasets.cifar10.load_data()\n",
    "x_train_normalize = x_train_image.astype('float32')/255\n",
    "x_test_normalize = x_test_image.astype('float32')/255\n",
    "y_train_OneHot = tf.keras.utils.to_categorical(y_train_label)\n",
    "y_test_OneHot = tf.keras.utils.to_categorical(y_test_label)"
   ]
  },
  {
   "cell_type": "code",
   "execution_count": 15,
   "metadata": {},
   "outputs": [],
   "source": [
    "def identity_block(x,filters):\n",
    "    x_input = x\n",
    "    x = keras.layers.Conv2D(filters = filters, kernel_size = (3,3), strides = (1,1), padding = 'same')(x)\n",
    "    x = keras.layers.BatchNormalization(axis = 3)(x)\n",
    "    x = keras.layers.ReLU()(x)\n",
    "    x = keras.layers.Conv2D(filters = filters, kernel_size = (3,3), strides = (1,1), padding = 'same')(x)\n",
    "    x = keras.layers.BatchNormalization(axis = 3)(x)\n",
    "    #x = keras.layers.Add()([x, x_input])   #与输入进行连接\n",
    "    x = keras.layers.ReLU()(x)\n",
    "    return x"
   ]
  },
  {
   "cell_type": "code",
   "execution_count": 16,
   "metadata": {},
   "outputs": [],
   "source": [
    "def convolutional_block(x,filters):\n",
    "    x_input = x\n",
    "    x = keras.layers.Conv2D(filters = filters, kernel_size = (3,3), strides = (1,1), padding = 'same')(x)\n",
    "    x = keras.layers.BatchNormalization(axis = 3)(x)\n",
    "    x = keras.layers.ReLU()(x)\n",
    "    x = keras.layers.Conv2D(filters = filters, kernel_size = (3,3), strides = (1,1), padding = 'same')(x)\n",
    "    x = keras.layers.BatchNormalization(axis = 3)(x)\n",
    "    x_input = keras.layers.Conv2D(filters, kernel_size=(1,1), strides = (1,1))(x_input)\n",
    "    x_input = keras.layers.BatchNormalization(axis = 3)(x_input)\n",
    "    #x = keras.layers.Add()([x, x_input])\n",
    "    x = keras.layers.ReLU()(x)\n",
    "    return x"
   ]
  },
  {
   "cell_type": "code",
   "execution_count": 17,
   "metadata": {},
   "outputs": [],
   "source": [
    "input = keras.layers.Input(shape=(32,32,3))\n",
    "x = keras.layers.Conv2D(64, (7, 7), strides = (2,2),padding='same')(input)\n",
    "x = keras.layers.BatchNormalization(axis = 3)(x)\n",
    "x = keras.layers.ReLU()(x)\n",
    "x = keras.layers.MaxPooling2D((3, 3), strides = (2,2))(x)\n",
    "x = convolutional_block(x,16)\n",
    "x = identity_block(x,16)\n",
    "#x = identity_block(x,64)\n",
    "x = convolutional_block(x,32)\n",
    "x = identity_block(x,32)\n",
    "#x = identity_block(x,128)\n",
    "#x = identity_block(x,128)\n",
    "x = convolutional_block(x,64)\n",
    "x = identity_block(x,64)\n",
    "#x = identity_block(x,256)\n",
    "#x = identity_block(x,256)\n",
    "#x = identity_block(x,256)\n",
    "#x = identity_block(x,256)\n",
    "#x = convolutional_block(x,128)\n",
    "#x = identity_block(x,512)\n",
    "#x = identity_block(x,128)\n",
    "x = keras.layers.MaxPooling2D(pool_size=(2,2),strides=(2,2),padding='same')(x)\n",
    "x = keras.layers.Flatten()(x)\n",
    "x = keras.layers.Dropout(0.3)(x)\n",
    "x = keras.layers.Dense(10,activation='softmax')(x)"
   ]
  },
  {
   "cell_type": "code",
   "execution_count": 18,
   "metadata": {},
   "outputs": [
    {
     "name": "stdout",
     "output_type": "stream",
     "text": [
      "Epoch 1/20\n",
      "134/134 [==============================] - 3s 19ms/step - loss: 1.9562 - accuracy: 0.2970 - val_loss: 3.2411 - val_accuracy: 0.0982\n",
      "Epoch 2/20\n",
      "134/134 [==============================] - 2s 17ms/step - loss: 1.5156 - accuracy: 0.4425 - val_loss: 2.7781 - val_accuracy: 0.1849\n",
      "Epoch 3/20\n",
      "134/134 [==============================] - 2s 17ms/step - loss: 1.3308 - accuracy: 0.5181 - val_loss: 2.0218 - val_accuracy: 0.3284\n",
      "Epoch 4/20\n",
      "134/134 [==============================] - 2s 17ms/step - loss: 1.2187 - accuracy: 0.5605 - val_loss: 1.5015 - val_accuracy: 0.4435\n",
      "Epoch 5/20\n",
      "134/134 [==============================] - 2s 17ms/step - loss: 1.1424 - accuracy: 0.5903 - val_loss: 1.7498 - val_accuracy: 0.4433\n",
      "Epoch 6/20\n",
      "134/134 [==============================] - 2s 17ms/step - loss: 1.0761 - accuracy: 0.6146 - val_loss: 1.7202 - val_accuracy: 0.4643\n",
      "Epoch 7/20\n",
      "134/134 [==============================] - 2s 17ms/step - loss: 1.0319 - accuracy: 0.6309 - val_loss: 1.7546 - val_accuracy: 0.4357\n",
      "Epoch 8/20\n",
      "134/134 [==============================] - 2s 17ms/step - loss: 0.9852 - accuracy: 0.6490 - val_loss: 1.3022 - val_accuracy: 0.5408\n",
      "Epoch 9/20\n",
      "134/134 [==============================] - 2s 17ms/step - loss: 0.9365 - accuracy: 0.6657 - val_loss: 1.2906 - val_accuracy: 0.5538\n",
      "Epoch 10/20\n",
      "134/134 [==============================] - 2s 17ms/step - loss: 0.9017 - accuracy: 0.6823 - val_loss: 1.9104 - val_accuracy: 0.4454\n",
      "Epoch 11/20\n",
      "134/134 [==============================] - 2s 17ms/step - loss: 0.8616 - accuracy: 0.6938 - val_loss: 1.1584 - val_accuracy: 0.6137\n",
      "Epoch 12/20\n",
      "134/134 [==============================] - 2s 17ms/step - loss: 0.8413 - accuracy: 0.7009 - val_loss: 1.2134 - val_accuracy: 0.5824\n",
      "Epoch 13/20\n",
      "134/134 [==============================] - 2s 17ms/step - loss: 0.8049 - accuracy: 0.7143 - val_loss: 1.5805 - val_accuracy: 0.5490\n",
      "Epoch 14/20\n",
      "134/134 [==============================] - 2s 17ms/step - loss: 0.7748 - accuracy: 0.7255 - val_loss: 1.5408 - val_accuracy: 0.5272\n",
      "Epoch 15/20\n",
      "134/134 [==============================] - 2s 17ms/step - loss: 0.7483 - accuracy: 0.7370 - val_loss: 1.1244 - val_accuracy: 0.6205\n",
      "Epoch 16/20\n",
      "134/134 [==============================] - 2s 17ms/step - loss: 0.7182 - accuracy: 0.7447 - val_loss: 1.5911 - val_accuracy: 0.5203\n",
      "Epoch 17/20\n",
      "134/134 [==============================] - 2s 17ms/step - loss: 0.6927 - accuracy: 0.7538 - val_loss: 1.1320 - val_accuracy: 0.6272\n",
      "Epoch 18/20\n",
      "134/134 [==============================] - 2s 17ms/step - loss: 0.6664 - accuracy: 0.7653 - val_loss: 1.8658 - val_accuracy: 0.5185\n",
      "Epoch 19/20\n",
      "134/134 [==============================] - 2s 17ms/step - loss: 0.6555 - accuracy: 0.7680 - val_loss: 1.3374 - val_accuracy: 0.6072\n",
      "Epoch 20/20\n",
      "134/134 [==============================] - 2s 17ms/step - loss: 0.6257 - accuracy: 0.7780 - val_loss: 1.3470 - val_accuracy: 0.5899\n"
     ]
    }
   ],
   "source": [
    "model = keras.models.Model(input,x)\n",
    "model.compile(loss='categorical_crossentropy',optimizer='adam',metrics=['accuracy'])\n",
    "model_train = model.fit(x=x_train_normalize,y=y_train_OneHot,validation_split=0.2,epochs=20,batch_size=300,verbose=1)\n",
    "def train_history(model_train,train,val):\n",
    "    plt.plot(model_train.history[train])\n",
    "    plt.plot(model_train.history[val])\n",
    "    plt.title('Train History')\n",
    "    plt.xlabel('epoch')\n",
    "    plt.ylabel(train)\n",
    "    plt.legend(['train','validation'],loc='upper left')"
   ]
  },
  {
   "cell_type": "code",
   "execution_count": 19,
   "metadata": {},
   "outputs": [
    {
     "name": "stdout",
     "output_type": "stream",
     "text": [
      "Model: \"model_1\"\n",
      "_________________________________________________________________\n",
      "Layer (type)                 Output Shape              Param #   \n",
      "=================================================================\n",
      "input_2 (InputLayer)         [(None, 32, 32, 3)]       0         \n",
      "_________________________________________________________________\n",
      "conv2d_21 (Conv2D)           (None, 16, 16, 64)        9472      \n",
      "_________________________________________________________________\n",
      "batch_normalization_21 (Batc (None, 16, 16, 64)        256       \n",
      "_________________________________________________________________\n",
      "re_lu_17 (ReLU)              (None, 16, 16, 64)        0         \n",
      "_________________________________________________________________\n",
      "max_pooling2d_2 (MaxPooling2 (None, 7, 7, 64)          0         \n",
      "_________________________________________________________________\n",
      "conv2d_22 (Conv2D)           (None, 7, 7, 16)          9232      \n",
      "_________________________________________________________________\n",
      "batch_normalization_22 (Batc (None, 7, 7, 16)          64        \n",
      "_________________________________________________________________\n",
      "re_lu_18 (ReLU)              (None, 7, 7, 16)          0         \n",
      "_________________________________________________________________\n",
      "conv2d_23 (Conv2D)           (None, 7, 7, 16)          2320      \n",
      "_________________________________________________________________\n",
      "batch_normalization_23 (Batc (None, 7, 7, 16)          64        \n",
      "_________________________________________________________________\n",
      "re_lu_19 (ReLU)              (None, 7, 7, 16)          0         \n",
      "_________________________________________________________________\n",
      "conv2d_25 (Conv2D)           (None, 7, 7, 16)          2320      \n",
      "_________________________________________________________________\n",
      "batch_normalization_25 (Batc (None, 7, 7, 16)          64        \n",
      "_________________________________________________________________\n",
      "re_lu_20 (ReLU)              (None, 7, 7, 16)          0         \n",
      "_________________________________________________________________\n",
      "conv2d_26 (Conv2D)           (None, 7, 7, 16)          2320      \n",
      "_________________________________________________________________\n",
      "batch_normalization_26 (Batc (None, 7, 7, 16)          64        \n",
      "_________________________________________________________________\n",
      "re_lu_21 (ReLU)              (None, 7, 7, 16)          0         \n",
      "_________________________________________________________________\n",
      "conv2d_27 (Conv2D)           (None, 7, 7, 32)          4640      \n",
      "_________________________________________________________________\n",
      "batch_normalization_27 (Batc (None, 7, 7, 32)          128       \n",
      "_________________________________________________________________\n",
      "re_lu_22 (ReLU)              (None, 7, 7, 32)          0         \n",
      "_________________________________________________________________\n",
      "conv2d_28 (Conv2D)           (None, 7, 7, 32)          9248      \n",
      "_________________________________________________________________\n",
      "batch_normalization_28 (Batc (None, 7, 7, 32)          128       \n",
      "_________________________________________________________________\n",
      "re_lu_23 (ReLU)              (None, 7, 7, 32)          0         \n",
      "_________________________________________________________________\n",
      "conv2d_30 (Conv2D)           (None, 7, 7, 32)          9248      \n",
      "_________________________________________________________________\n",
      "batch_normalization_30 (Batc (None, 7, 7, 32)          128       \n",
      "_________________________________________________________________\n",
      "re_lu_24 (ReLU)              (None, 7, 7, 32)          0         \n",
      "_________________________________________________________________\n",
      "conv2d_31 (Conv2D)           (None, 7, 7, 32)          9248      \n",
      "_________________________________________________________________\n",
      "batch_normalization_31 (Batc (None, 7, 7, 32)          128       \n",
      "_________________________________________________________________\n",
      "re_lu_25 (ReLU)              (None, 7, 7, 32)          0         \n",
      "_________________________________________________________________\n",
      "conv2d_32 (Conv2D)           (None, 7, 7, 64)          18496     \n",
      "_________________________________________________________________\n",
      "batch_normalization_32 (Batc (None, 7, 7, 64)          256       \n",
      "_________________________________________________________________\n",
      "re_lu_26 (ReLU)              (None, 7, 7, 64)          0         \n",
      "_________________________________________________________________\n",
      "conv2d_33 (Conv2D)           (None, 7, 7, 64)          36928     \n",
      "_________________________________________________________________\n",
      "batch_normalization_33 (Batc (None, 7, 7, 64)          256       \n",
      "_________________________________________________________________\n",
      "re_lu_27 (ReLU)              (None, 7, 7, 64)          0         \n",
      "_________________________________________________________________\n",
      "conv2d_35 (Conv2D)           (None, 7, 7, 64)          36928     \n",
      "_________________________________________________________________\n",
      "batch_normalization_35 (Batc (None, 7, 7, 64)          256       \n",
      "_________________________________________________________________\n",
      "re_lu_28 (ReLU)              (None, 7, 7, 64)          0         \n",
      "_________________________________________________________________\n",
      "conv2d_36 (Conv2D)           (None, 7, 7, 64)          36928     \n",
      "_________________________________________________________________\n",
      "batch_normalization_36 (Batc (None, 7, 7, 64)          256       \n",
      "_________________________________________________________________\n",
      "re_lu_29 (ReLU)              (None, 7, 7, 64)          0         \n",
      "_________________________________________________________________\n",
      "max_pooling2d_3 (MaxPooling2 (None, 4, 4, 64)          0         \n",
      "_________________________________________________________________\n",
      "flatten_1 (Flatten)          (None, 1024)              0         \n",
      "_________________________________________________________________\n",
      "dropout (Dropout)            (None, 1024)              0         \n",
      "_________________________________________________________________\n",
      "dense_1 (Dense)              (None, 10)                10250     \n",
      "=================================================================\n",
      "Total params: 199,626\n",
      "Trainable params: 198,602\n",
      "Non-trainable params: 1,024\n",
      "_________________________________________________________________\n"
     ]
    }
   ],
   "source": [
    "model.summary()"
   ]
  },
  {
   "cell_type": "code",
   "execution_count": 20,
   "metadata": {},
   "outputs": [
    {
     "data": {
      "image/png": "[encoded data removed]",
      "text/plain": [
       "<Figure size 432x288 with 1 Axes>"
      ]
     },
     "metadata": {
      "needs_background": "light"
     },
     "output_type": "display_data"
    }
   ],
   "source": [
    "train_history(model_train,'loss','val_loss')"
   ]
  },
  {
   "cell_type": "code",
   "execution_count": 21,
   "metadata": {},
   "outputs": [
    {
     "name": "stdout",
     "output_type": "stream",
     "text": [
      "313/313 - 1s - loss: 1.3791 - accuracy: 0.5863\n"
     ]
    }
   ],
   "source": [
    "scores = model.evaluate(x_test_normalize,y_test_OneHot,verbose=2)"
   ]
  },
  {
   "cell_type": "code",
   "execution_count": 22,
   "metadata": {},
   "outputs": [],
   "source": [
    "model.save('./MyRes.h5', save_format=\"h5\")"
   ]
  },
  {
   "cell_type": "code",
   "execution_count": 23,
   "metadata": {},
   "outputs": [
    {
     "data": {
      "text/plain": [
       "806232"
      ]
     },
     "execution_count": 23,
     "metadata": {},
     "output_type": "execute_result"
    }
   ],
   "source": [
    "from tensorflow.python.keras import backend as K\n",
    "from tensorflow.python.keras.utils.generic_utils import CustomObjectScope\n",
    "#model = tf.keras.models.load_model('MyAlex.h5')\n",
    "#print(model.summary())\n",
    "\n",
    " \n",
    "#keras_model = tf.keras_models.load_model(\"./MyAlex.h5\")\n",
    "keras_model =tf.keras.models.load_model (\"./MyRes.h5\")\n",
    "\n",
    "converter = tf.lite.TFLiteConverter.from_keras_model(keras_model)\n",
    "tflite_model = converter.convert()\n",
    "\n",
    "open(\"./MyRes.tflite\",\"wb\").write(tflite_model)\n",
    " "
   ]
  },
  {
   "cell_type": "code",
   "execution_count": 24,
   "metadata": {},
   "outputs": [
    {
     "data": {
      "text/plain": [
       "216016"
      ]
     },
     "execution_count": 24,
     "metadata": {},
     "output_type": "execute_result"
    }
   ],
   "source": [
    "model = tf.keras.models.load_model('MyRes.h5')\n",
    "converter = tf.lite.TFLiteConverter.from_keras_model(model)\n",
    "\n",
    "# 开启动态量化\n",
    "converter.optimizations = [tf.lite.Optimize.DEFAULT]\n",
    "tflite_model = converter.convert()\n",
    "open(\"myres_converted_model_quantized.tflite\", \"wb\").write(tflite_model)"
   ]
  }
 ],
 "metadata": {
  "kernelspec": {
   "display_name": "Python 3.8.13 ('tf2')",
   "language": "python",
   "name": "python3"
  },
  "language_info": {
   "codemirror_mode": {
    "name": "ipython",
    "version": 3
   },
   "file_extension": ".py",
   "mimetype": "text/x-python",
   "name": "python",
   "nbconvert_exporter": "python",
   "pygments_lexer": "ipython3",
   "version": "3.8.13"
  },
  "vscode": {
   "interpreter": {
    "hash": "191b613aa2eae5cea452075f03b52477f36862f57e511f6bd3e69cb00abfb340"
   }
  }
 },
 "nbformat": 4,
 "nbformat_minor": 4
}
