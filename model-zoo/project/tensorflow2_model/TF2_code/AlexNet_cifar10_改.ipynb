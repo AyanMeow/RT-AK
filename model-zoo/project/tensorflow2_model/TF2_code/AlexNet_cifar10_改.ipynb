{
 "cells": [
  {
   "cell_type": "code",
   "execution_count": 1,
   "metadata": {},
   "outputs": [],
   "source": [
    "import tensorflow as tf\n",
    "from tensorflow import keras\n",
    "import matplotlib.pyplot as plt"
   ]
  },
  {
   "cell_type": "code",
   "execution_count": 2,
   "metadata": {},
   "outputs": [],
   "source": [
    "(x_train_image,y_train_label),(x_test_image,y_test_label) = tf.keras.datasets.cifar10.load_data()\n",
    "x_train_normalize = x_train_image.astype('float32')/255\n",
    "x_test_normalize = x_test_image.astype('float32')/255\n",
    "y_train_OneHot = tf.keras.utils.to_categorical(y_train_label)\n",
    "y_test_OneHot = tf.keras.utils.to_categorical(y_test_label)"
   ]
  },
  {
   "cell_type": "code",
   "execution_count": 33,
   "metadata": {},
   "outputs": [],
   "source": [
    "model = tf.keras.models.Sequential()\n",
    "#input()\n",
    "model.add(keras.layers.Conv2D(filters=48,kernel_size=8,strides=4,input_shape=(32,32,3),padding='same',activation='relu'))\n",
    "#input(32,32,3) output(8,8,12)\n",
    "model.add(keras.layers.BatchNormalization())\n",
    "model.add(keras.layers.MaxPooling2D(pool_size=3,strides=2,padding='same'))\n",
    "model.add(keras.layers.Conv2D(filters=64,kernel_size=3,strides=1,padding='same',activation='relu'))\n",
    "model.add(keras.layers.BatchNormalization())\n",
    "model.add(keras.layers.MaxPooling2D(pool_size=3,strides=2,padding='same'))\n",
    "model.add(keras.layers.Conv2D(filters=64,kernel_size=3,strides=1,padding='same',activation='relu'))\n",
    "#model.add(keras.layers.Conv2D(filters=12,kernel_size=3,strides=1,padding='same',activation='relu'))\n",
    "#model.add(keras.layers.Conv2D(filters=8,kernel_size=3,strides=1,padding='same',activation='relu'))\n",
    "model.add(keras.layers.MaxPooling2D(pool_size=3,strides=2,padding='same'))\n",
    "model.add(keras.layers.Flatten())\n",
    "model.add(keras.layers.Dense(64,activation='relu'))\n",
    "model.add(keras.layers.Dropout(0.3))\n",
    "model.add(keras.layers.Dense(32,activation='relu'))\n",
    "model.add(keras.layers.Dropout(0.3))\n",
    "model.add(keras.layers.Dense(10,activation='softmax'))   #修正的输出"
   ]
  },
  {
   "cell_type": "code",
   "execution_count": 34,
   "metadata": {},
   "outputs": [
    {
     "name": "stdout",
     "output_type": "stream",
     "text": [
      "Model: \"sequential_4\"\n",
      "_________________________________________________________________\n",
      "Layer (type)                 Output Shape              Param #   \n",
      "=================================================================\n",
      "conv2d_12 (Conv2D)           (None, 8, 8, 48)          9264      \n",
      "_________________________________________________________________\n",
      "batch_normalization_8 (Batch (None, 8, 8, 48)          192       \n",
      "_________________________________________________________________\n",
      "max_pooling2d_12 (MaxPooling (None, 4, 4, 48)          0         \n",
      "_________________________________________________________________\n",
      "conv2d_13 (Conv2D)           (None, 4, 4, 64)          27712     \n",
      "_________________________________________________________________\n",
      "batch_normalization_9 (Batch (None, 4, 4, 64)          256       \n",
      "_________________________________________________________________\n",
      "max_pooling2d_13 (MaxPooling (None, 2, 2, 64)          0         \n",
      "_________________________________________________________________\n",
      "conv2d_14 (Conv2D)           (None, 2, 2, 64)          36928     \n",
      "_________________________________________________________________\n",
      "max_pooling2d_14 (MaxPooling (None, 1, 1, 64)          0         \n",
      "_________________________________________________________________\n",
      "flatten_4 (Flatten)          (None, 64)                0         \n",
      "_________________________________________________________________\n",
      "dense_12 (Dense)             (None, 64)                4160      \n",
      "_________________________________________________________________\n",
      "dropout_8 (Dropout)          (None, 64)                0         \n",
      "_________________________________________________________________\n",
      "dense_13 (Dense)             (None, 32)                2080      \n",
      "_________________________________________________________________\n",
      "dropout_9 (Dropout)          (None, 32)                0         \n",
      "_________________________________________________________________\n",
      "dense_14 (Dense)             (None, 10)                330       \n",
      "=================================================================\n",
      "Total params: 80,922\n",
      "Trainable params: 80,698\n",
      "Non-trainable params: 224\n",
      "_________________________________________________________________\n"
     ]
    }
   ],
   "source": [
    "model.summary()"
   ]
  },
  {
   "cell_type": "code",
   "execution_count": 35,
   "metadata": {},
   "outputs": [
    {
     "name": "stdout",
     "output_type": "stream",
     "text": [
      "Epoch 1/30\n",
      "134/134 [==============================] - 1s 8ms/step - loss: 2.0696 - accuracy: 0.2470 - val_loss: 2.1492 - val_accuracy: 0.2152\n",
      "Epoch 2/30\n",
      "134/134 [==============================] - 1s 6ms/step - loss: 1.7167 - accuracy: 0.3762 - val_loss: 1.7877 - val_accuracy: 0.4232\n",
      "Epoch 3/30\n",
      "134/134 [==============================] - 1s 6ms/step - loss: 1.5609 - accuracy: 0.4402 - val_loss: 1.7153 - val_accuracy: 0.4036\n",
      "Epoch 4/30\n",
      "134/134 [==============================] - 1s 6ms/step - loss: 1.4587 - accuracy: 0.4830 - val_loss: 1.5653 - val_accuracy: 0.4244\n",
      "Epoch 5/30\n",
      "134/134 [==============================] - 1s 6ms/step - loss: 1.3870 - accuracy: 0.5138 - val_loss: 1.3715 - val_accuracy: 0.5186\n",
      "Epoch 6/30\n",
      "134/134 [==============================] - 1s 6ms/step - loss: 1.3203 - accuracy: 0.5364 - val_loss: 1.2952 - val_accuracy: 0.5380\n",
      "Epoch 7/30\n",
      "134/134 [==============================] - 1s 6ms/step - loss: 1.2795 - accuracy: 0.5513 - val_loss: 1.4672 - val_accuracy: 0.4707\n",
      "Epoch 8/30\n",
      "134/134 [==============================] - 1s 6ms/step - loss: 1.2348 - accuracy: 0.5701 - val_loss: 1.4533 - val_accuracy: 0.5155\n",
      "Epoch 9/30\n",
      "134/134 [==============================] - 1s 6ms/step - loss: 1.1845 - accuracy: 0.5861 - val_loss: 1.3795 - val_accuracy: 0.5159\n",
      "Epoch 10/30\n",
      "134/134 [==============================] - 1s 6ms/step - loss: 1.1583 - accuracy: 0.5970 - val_loss: 1.6767 - val_accuracy: 0.4938\n",
      "Epoch 11/30\n",
      "134/134 [==============================] - 1s 6ms/step - loss: 1.1310 - accuracy: 0.6102 - val_loss: 1.3049 - val_accuracy: 0.5411\n",
      "Epoch 12/30\n",
      "134/134 [==============================] - 1s 6ms/step - loss: 1.0931 - accuracy: 0.6209 - val_loss: 1.2693 - val_accuracy: 0.5577\n",
      "Epoch 13/30\n",
      "134/134 [==============================] - 1s 6ms/step - loss: 1.0606 - accuracy: 0.6316 - val_loss: 1.2719 - val_accuracy: 0.5606\n",
      "Epoch 14/30\n",
      "134/134 [==============================] - 1s 6ms/step - loss: 1.0430 - accuracy: 0.6407 - val_loss: 1.2276 - val_accuracy: 0.5924\n",
      "Epoch 15/30\n",
      "134/134 [==============================] - 1s 6ms/step - loss: 1.0140 - accuracy: 0.6478 - val_loss: 1.2631 - val_accuracy: 0.5742\n",
      "Epoch 16/30\n",
      "134/134 [==============================] - 1s 6ms/step - loss: 0.9870 - accuracy: 0.6568 - val_loss: 1.1150 - val_accuracy: 0.6109\n",
      "Epoch 17/30\n",
      "134/134 [==============================] - 1s 6ms/step - loss: 0.9502 - accuracy: 0.6722 - val_loss: 1.2649 - val_accuracy: 0.5834\n",
      "Epoch 18/30\n",
      "134/134 [==============================] - 1s 6ms/step - loss: 0.9344 - accuracy: 0.6768 - val_loss: 1.2196 - val_accuracy: 0.5980\n",
      "Epoch 19/30\n",
      "134/134 [==============================] - 1s 6ms/step - loss: 0.9122 - accuracy: 0.6838 - val_loss: 1.1992 - val_accuracy: 0.6052\n",
      "Epoch 20/30\n",
      "134/134 [==============================] - 1s 6ms/step - loss: 0.8842 - accuracy: 0.6944 - val_loss: 1.2010 - val_accuracy: 0.6059\n",
      "Epoch 21/30\n",
      "134/134 [==============================] - 1s 6ms/step - loss: 0.8662 - accuracy: 0.6967 - val_loss: 1.1703 - val_accuracy: 0.6103\n",
      "Epoch 22/30\n",
      "134/134 [==============================] - 1s 6ms/step - loss: 0.8550 - accuracy: 0.7024 - val_loss: 1.3400 - val_accuracy: 0.5730\n",
      "Epoch 23/30\n",
      "134/134 [==============================] - 1s 6ms/step - loss: 0.8368 - accuracy: 0.7113 - val_loss: 1.2222 - val_accuracy: 0.6035\n",
      "Epoch 24/30\n",
      "134/134 [==============================] - 1s 6ms/step - loss: 0.8103 - accuracy: 0.7181 - val_loss: 1.3552 - val_accuracy: 0.5766\n",
      "Epoch 25/30\n",
      "134/134 [==============================] - 1s 6ms/step - loss: 0.7972 - accuracy: 0.7237 - val_loss: 1.2859 - val_accuracy: 0.5988\n",
      "Epoch 26/30\n",
      "134/134 [==============================] - 1s 6ms/step - loss: 0.7701 - accuracy: 0.7339 - val_loss: 1.3056 - val_accuracy: 0.6028\n",
      "Epoch 27/30\n",
      "134/134 [==============================] - 1s 6ms/step - loss: 0.7592 - accuracy: 0.7386 - val_loss: 1.2004 - val_accuracy: 0.6140\n",
      "Epoch 28/30\n",
      "134/134 [==============================] - 1s 6ms/step - loss: 0.7455 - accuracy: 0.7430 - val_loss: 1.4977 - val_accuracy: 0.5706\n",
      "Epoch 29/30\n",
      "134/134 [==============================] - 1s 6ms/step - loss: 0.7245 - accuracy: 0.7498 - val_loss: 1.3341 - val_accuracy: 0.6028\n",
      "Epoch 30/30\n",
      "134/134 [==============================] - 1s 6ms/step - loss: 0.7092 - accuracy: 0.7545 - val_loss: 1.2530 - val_accuracy: 0.6203\n"
     ]
    }
   ],
   "source": [
    "model.compile(loss='categorical_crossentropy',optimizer='adam',metrics=['accuracy'])\n",
    "model_train = model.fit(x=x_train_normalize,y=y_train_OneHot,validation_split=0.2,epochs=30,batch_size=300,verbose=1)"
   ]
  },
  {
   "cell_type": "code",
   "execution_count": 36,
   "metadata": {},
   "outputs": [],
   "source": [
    "def train_history(model_train,train,val):\n",
    "    plt.plot(model_train.history[train])\n",
    "    plt.plot(model_train.history[val])\n",
    "    plt.title('Train History')\n",
    "    plt.xlabel('epoch')\n",
    "    plt.ylabel(train)\n",
    "    plt.legend(['train','validation'],loc='upper left')"
   ]
  },
  {
   "cell_type": "code",
   "execution_count": 37,
   "metadata": {},
   "outputs": [
    {
     "data": {
      "image/png": "[encoded data removed]",
      "text/plain": [
       "<Figure size 432x288 with 1 Axes>"
      ]
     },
     "metadata": {
      "needs_background": "light"
     },
     "output_type": "display_data"
    }
   ],
   "source": [
    "train_history(model_train,'loss','val_loss')"
   ]
  },
  {
   "cell_type": "code",
   "execution_count": 38,
   "metadata": {},
   "outputs": [
    {
     "name": "stdout",
     "output_type": "stream",
     "text": [
      "313/313 - 1s - loss: 1.2839 - accuracy: 0.6076\n"
     ]
    }
   ],
   "source": [
    "scores = model.evaluate(x_test_normalize,y_test_OneHot,verbose=2)"
   ]
  },
  {
   "cell_type": "code",
   "execution_count": 39,
   "metadata": {},
   "outputs": [],
   "source": [
    "model.save('./MyAlex.h5', save_format=\"h5\")"
   ]
  },
  {
   "cell_type": "code",
   "execution_count": 41,
   "metadata": {},
   "outputs": [
    {
     "data": {
      "text/plain": [
       "327780"
      ]
     },
     "execution_count": 41,
     "metadata": {},
     "output_type": "execute_result"
    }
   ],
   "source": [
    "from tensorflow.python.keras import backend as K\n",
    "from tensorflow.python.keras.utils.generic_utils import CustomObjectScope\n",
    "#model = tf.keras.models.load_model('MyAlex.h5')\n",
    "#print(model.summary())\n",
    "\n",
    " \n",
    "#keras_model = tf.keras_models.load_model(\"./MyAlex.h5\")\n",
    "keras_model =tf.keras.models.load_model (\"./MyAlex.h5\")\n",
    "\n",
    "converter = tf.lite.TFLiteConverter.from_keras_model(keras_model)\n",
    "tflite_model = converter.convert()\n",
    "\n",
    "open(\"./MyAlex.tflite\",\"wb\").write(tflite_model)\n",
    " \n"
   ]
  },
  {
   "cell_type": "code",
   "execution_count": 42,
   "metadata": {},
   "outputs": [
    {
     "data": {
      "text/plain": [
       "88672"
      ]
     },
     "execution_count": 42,
     "metadata": {},
     "output_type": "execute_result"
    }
   ],
   "source": [
    "\n",
    "\n",
    "model = tf.keras.models.load_model('MyAlex.h5')\n",
    "converter = tf.lite.TFLiteConverter.from_keras_model(model)\n",
    "\n",
    "# 开启动态量化\n",
    "converter.optimizations = [tf.lite.Optimize.DEFAULT]\n",
    "tflite_model = converter.convert()\n",
    "open(\"myalex_converted_model_quantized.tflite\", \"wb\").write(tflite_model)"
   ]
  }
 ],
 "metadata": {
  "kernelspec": {
   "display_name": "Python 3.8.13 ('tf2')",
   "language": "python",
   "name": "python3"
  },
  "language_info": {
   "codemirror_mode": {
    "name": "ipython",
    "version": 3
   },
   "file_extension": ".py",
   "mimetype": "text/x-python",
   "name": "python",
   "nbconvert_exporter": "python",
   "pygments_lexer": "ipython3",
   "version": "3.8.13"
  },
  "vscode": {
   "interpreter": {
    "hash": "191b613aa2eae5cea452075f03b52477f36862f57e511f6bd3e69cb00abfb340"
   }
  }
 },
 "nbformat": 4,
 "nbformat_minor": 4
}
