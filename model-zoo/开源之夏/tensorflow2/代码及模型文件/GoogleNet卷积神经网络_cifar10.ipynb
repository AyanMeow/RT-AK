{
 "cells": [
  {
   "cell_type": "code",
   "execution_count": 1,
   "metadata": {},
   "outputs": [],
   "source": [
    "import tensorflow as tf\n",
    "from tensorflow import keras\n",
    "import matplotlib.pyplot as plt"
   ]
  },
  {
   "cell_type": "code",
   "execution_count": 2,
   "metadata": {},
   "outputs": [],
   "source": [
    "(x_train_image,y_train_label),(x_test_image,y_test_label) = tf.keras.datasets.cifar10.load_data()\n",
    "x_train_normalize = x_train_image.astype('float32')/255\n",
    "x_test_normalize = x_test_image.astype('float32')/255\n",
    "y_train_OneHot = tf.keras.utils.to_categorical(y_train_label)\n",
    "y_test_OneHot = tf.keras.utils.to_categorical(y_test_label)"
   ]
  },
  {
   "cell_type": "code",
   "execution_count": 3,
   "metadata": {},
   "outputs": [],
   "source": [
    "def Conv2d_BN(x,filter,kernel_size,strides=(1,1)):\n",
    "    x = keras.layers.Conv2D(filter,kernel_size,padding='same',strides=strides,activation='relu')(x)\n",
    "    x = keras.layers.BatchNormalization(axis=3)(x)\n",
    "    return x"
   ]
  },
  {
   "cell_type": "code",
   "execution_count": 4,
   "metadata": {},
   "outputs": [],
   "source": [
    "def Inception(x,filter):\n",
    "    branch1x1 = Conv2d_BN(x,filter,(1,1),strides=(1,1))\n",
    " \n",
    "    branch1x1 = Conv2d_BN(x,filter,(1,1), strides=(1,1))\n",
    "    branch3x3 = Conv2d_BN(branch1x1,filter,(3,3), strides=(1,1))\n",
    " \n",
    "    branch1x1 = Conv2d_BN(x,filter,(1,1),strides=(1,1))\n",
    "    branch5x5 = Conv2d_BN(branch1x1,filter,(1,1),strides=(1,1))\n",
    " \n",
    "    branch3x3_pooling = keras.layers.MaxPooling2D(pool_size=(3,3),strides=(1,1),padding='same')(x)\n",
    "    branch1x1_pooling = Conv2d_BN(branch3x3_pooling,filter,(1,1),strides=(1,1))\n",
    " \n",
    "    x = keras.layers.concatenate([branch1x1,branch3x3,branch5x5,branch1x1_pooling],axis=3)\n",
    " \n",
    "    return x"
   ]
  },
  {
   "cell_type": "code",
   "execution_count": 5,
   "metadata": {},
   "outputs": [],
   "source": [
    "input = keras.layers.Input(shape=(32,32,3))\n",
    "x = Conv2d_BN(input,64,(7,7),strides=(2,2))\n",
    "x = keras.layers.MaxPooling2D(pool_size=(3,3),strides=(2,2),padding='same')(x)\n",
    "x = Conv2d_BN(x,192,(3,3),strides=(1,1))\n",
    "x = keras.layers.MaxPooling2D(pool_size=(3,3),strides=(2,2),padding='same')(x)\n",
    "x = Inception(x,64)\n",
    "x = Inception(x,120)\n",
    "x = keras.layers.MaxPooling2D(pool_size=(3,3),strides=(2,2),padding='same')(x)\n",
    "x = Inception(x,128)\n",
    "x = Inception(x,128)\n",
    "x = Inception(x,128)\n",
    "x = Inception(x,132)\n",
    "x = Inception(x,208)\n",
    "x = keras.layers.MaxPooling2D(pool_size=(3,3),strides=(2,2),padding='same')(x)\n",
    "x = Inception(x,208)\n",
    "x = Inception(x,256)\n",
    "x = keras.layers.AveragePooling2D(pool_size=(7,7),strides=(1,1),padding='same')(x)\n",
    "x = keras.layers.Dropout(0.4)(x)\n",
    "x = keras.layers.Dense(1000,activation='relu')(x)\n",
    "x = keras.layers.Dense(10,activation='softmax')(x)\n",
    "x = tf.squeeze(x,axis=1)\n",
    "x = tf.squeeze(x,axis=1)"
   ]
  },
  {
   "cell_type": "code",
   "execution_count": 6,
   "metadata": {},
   "outputs": [
    {
     "name": "stdout",
     "output_type": "stream",
     "text": [
      "Epoch 1/10\n",
      "134/134 [==============================] - 15s 112ms/step - loss: 2.1853 - accuracy: 0.2713 - val_loss: 2.6872 - val_accuracy: 0.0972\n",
      "Epoch 2/10\n",
      "134/134 [==============================] - 9s 68ms/step - loss: 1.7243 - accuracy: 0.3925 - val_loss: 2.6248 - val_accuracy: 0.1595\n",
      "Epoch 3/10\n",
      "134/134 [==============================] - 9s 69ms/step - loss: 1.5193 - accuracy: 0.4608 - val_loss: 1.9414 - val_accuracy: 0.3170\n",
      "Epoch 4/10\n",
      "134/134 [==============================] - 9s 69ms/step - loss: 1.3934 - accuracy: 0.5055 - val_loss: 2.3117 - val_accuracy: 0.3917\n",
      "Epoch 5/10\n",
      "134/134 [==============================] - 10s 71ms/step - loss: 1.2646 - accuracy: 0.5577 - val_loss: 1.8487 - val_accuracy: 0.4248\n",
      "Epoch 6/10\n",
      "134/134 [==============================] - 9s 70ms/step - loss: 1.2415 - accuracy: 0.5721 - val_loss: 2.3641 - val_accuracy: 0.3245\n",
      "Epoch 7/10\n",
      "134/134 [==============================] - 10s 76ms/step - loss: 1.1374 - accuracy: 0.6007 - val_loss: 3.2949 - val_accuracy: 0.1941\n",
      "Epoch 8/10\n",
      "134/134 [==============================] - 10s 73ms/step - loss: 1.1136 - accuracy: 0.6140 - val_loss: 1.8799 - val_accuracy: 0.4389\n",
      "Epoch 9/10\n",
      "134/134 [==============================] - 9s 68ms/step - loss: 1.1323 - accuracy: 0.6150 - val_loss: 1.7308 - val_accuracy: 0.4125\n",
      "Epoch 10/10\n",
      "134/134 [==============================] - 11s 80ms/step - loss: 1.0564 - accuracy: 0.6322 - val_loss: 1.3258 - val_accuracy: 0.5376\n"
     ]
    }
   ],
   "source": [
    "model = keras.models.Model(input,x,name='inception')\n",
    "model.compile(loss='categorical_crossentropy',optimizer='adam',metrics=['accuracy'])\n",
    "model_train = model.fit(x=x_train_normalize,y=y_train_OneHot,validation_split=0.2,epochs=10,batch_size=300,verbose=1)"
   ]
  },
  {
   "cell_type": "code",
   "execution_count": 7,
   "metadata": {},
   "outputs": [
    {
     "name": "stdout",
     "output_type": "stream",
     "text": [
      "Epoch 1/10\n",
      "134/134 [==============================] - 12s 91ms/step - loss: 1.3116 - accuracy: 0.5633 - val_loss: 4.2304 - val_accuracy: 0.1816\n",
      "Epoch 2/10\n",
      "134/134 [==============================] - 10s 73ms/step - loss: 1.3512 - accuracy: 0.5342 - val_loss: 3.8772 - val_accuracy: 0.2195\n",
      "Epoch 3/10\n",
      "134/134 [==============================] - 10s 71ms/step - loss: 1.1008 - accuracy: 0.6157 - val_loss: 2.2940 - val_accuracy: 0.4135\n",
      "Epoch 4/10\n",
      "134/134 [==============================] - 9s 69ms/step - loss: 0.9926 - accuracy: 0.6640 - val_loss: 2.9264 - val_accuracy: 0.2477\n",
      "Epoch 5/10\n",
      "134/134 [==============================] - 9s 69ms/step - loss: 1.2738 - accuracy: 0.5655 - val_loss: 1.4986 - val_accuracy: 0.5057\n",
      "Epoch 6/10\n",
      "134/134 [==============================] - 11s 81ms/step - loss: 1.0844 - accuracy: 0.6301 - val_loss: 1.1769 - val_accuracy: 0.6093\n",
      "Epoch 7/10\n",
      "134/134 [==============================] - 11s 79ms/step - loss: 0.8999 - accuracy: 0.6906 - val_loss: 1.2901 - val_accuracy: 0.5965\n",
      "Epoch 8/10\n",
      "134/134 [==============================] - 11s 80ms/step - loss: 0.7900 - accuracy: 0.7259 - val_loss: 1.2211 - val_accuracy: 0.6177\n",
      "Epoch 9/10\n",
      "134/134 [==============================] - 11s 80ms/step - loss: 0.6997 - accuracy: 0.7592 - val_loss: 1.0564 - val_accuracy: 0.6637\n",
      "Epoch 10/10\n",
      "134/134 [==============================] - 10s 78ms/step - loss: 0.6406 - accuracy: 0.7795 - val_loss: 1.4509 - val_accuracy: 0.5822\n"
     ]
    }
   ],
   "source": [
    "model = keras.models.Model(input,x,name='inception')\n",
    "model.compile(loss='categorical_crossentropy',optimizer='adam',metrics=['accuracy'])\n",
    "model_train=model.fit(x=x_train_normalize,y=y_train_OneHot,validation_split=0.2,epochs=10,batch_size=300,verbose=1)\n"
   ]
  },
  {
   "cell_type": "code",
   "execution_count": 8,
   "metadata": {},
   "outputs": [],
   "source": [
    "def train_history(model_train,train,val):\n",
    "    plt.plot(model_train.history[train])\n",
    "    plt.plot(model_train.history[val])\n",
    "    plt.title('Train History')\n",
    "    plt.xlabel('epoch')\n",
    "    plt.ylabel(train)\n",
    "    plt.legend(['train','validation'],loc='upper left')"
   ]
  },
  {
   "cell_type": "code",
   "execution_count": 9,
   "metadata": {},
   "outputs": [
    {
     "data": {
      "image/png": "[encoded data removed]",
      "text/plain": [
       "<Figure size 432x288 with 1 Axes>"
      ]
     },
     "metadata": {
      "needs_background": "light"
     },
     "output_type": "display_data"
    }
   ],
   "source": [
    "train_history(model_train,'loss','val_loss')"
   ]
  },
  {
   "cell_type": "code",
   "execution_count": 10,
   "metadata": {},
   "outputs": [
    {
     "name": "stdout",
     "output_type": "stream",
     "text": [
      "313/313 - 3s - loss: 1.4793 - accuracy: 0.5725\n"
     ]
    }
   ],
   "source": [
    "scores = model.evaluate(x_test_normalize,y_test_OneHot,verbose=2)"
   ]
  },
  {
   "cell_type": "code",
   "execution_count": 11,
   "metadata": {},
   "outputs": [],
   "source": [
    "model.save('./Googlenet.h5', save_format=\"h5\")"
   ]
  }
 ],
 "metadata": {
  "kernelspec": {
   "display_name": "Python 3.8.13 ('tf2')",
   "language": "python",
   "name": "python3"
  },
  "language_info": {
   "codemirror_mode": {
    "name": "ipython",
    "version": 3
   },
   "file_extension": ".py",
   "mimetype": "text/x-python",
   "name": "python",
   "nbconvert_exporter": "python",
   "pygments_lexer": "ipython3",
   "version": "3.8.13"
  },
  "vscode": {
   "interpreter": {
    "hash": "191b613aa2eae5cea452075f03b52477f36862f57e511f6bd3e69cb00abfb340"
   }
  }
 },
 "nbformat": 4,
 "nbformat_minor": 4
}
